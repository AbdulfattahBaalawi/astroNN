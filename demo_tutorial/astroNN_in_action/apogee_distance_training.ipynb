{
 "cells": [
  {
   "cell_type": "markdown",
   "metadata": {},
   "source": [
    "# Training a convolutional neural net to predict Absolute Magnitude by DR14 APOGEE_Distances Value Added Catalogue using astroNN"
   ]
  },
  {
   "cell_type": "markdown",
   "metadata": {},
   "source": [
    "*  **Henry W.H. Leung** - Astronomy Undergraduate, University of Toronto - henrysky\n",
    "* Project advisor: **Jo Bovy** - Professor, Department of Astronomy and Astrophysics, University of Toronto - jobovy\n",
    "*  Contact Henry: henrysky.leung [at] mail.utoronto.ca\n",
    "* This tutorial is created on 10/Feb/2018 with Keras 2.1.3, Tensorflow 1.6.0, Nvidia CuDNN 7.0 for CUDA 9.0 (Optional), Python 3.6.3 Win10 x64\n",
    "* Since astroNN is still in active development, this tutorial is creacted with the following astroNN 0.9.1 Alpha"
   ]
  },
  {
   "cell_type": "markdown",
   "metadata": {},
   "source": [
    "* astroNN github: https://github.com/henrysky/astroNN\n",
    "\n",
    "* astroNN documentation: http://astronn.readthedocs.io/"
   ]
  },
  {
   "cell_type": "markdown",
   "metadata": {},
   "source": [
    "The data we will be using is BPG StarHorse median posterior A(V) (Bayesian; Santiago et al. 2016, Queiroz et al. 2017)\n",
    "\n",
    "Stellar Parameters (Surface Effective Temperature, Surface Gravity and Iron) are from ASPCAP"
   ]
  },
  {
   "cell_type": "markdown",
   "metadata": {},
   "source": [
    "### Data preparation"
   ]
  },
  {
   "cell_type": "code",
   "execution_count": null,
   "metadata": {
    "collapsed": true,
    "scrolled": false
   },
   "outputs": [],
   "source": [
    "from astroNN.datasets import H5Loader\n",
    "from astroNN.datasets import load_apogee_distances\n",
    "from astroNN.datasets import xmatch\n",
    "import numpy as np\n",
    "\n",
    "# Setup a H5loader instance\n",
    "# __train.h5 is a compiled dataset described at \n",
    "# http://astronn.readthedocs.io/en/latest/compile_datasets.html#compiling-dataset\n",
    "loader = H5Loader('__train.h5')\n",
    "\n",
    "# We dont need error for CNN\n",
    "loader.load_err = False\n",
    "\n",
    "# x is sprectra and y is abundances\n",
    "x, y = loader.load()\n",
    "\n",
    "# By using load_entry() method, the resulting array always correspoinds to the x, y loaded from load()\n",
    "ra = loader.load_entry('RA')\n",
    "dec = loader.load_entry('DEC')\n",
    "kmag = loader.load_entry('Kmag')\n",
    "\n",
    "# load the apogee distances\n",
    "ra_dist, dec_dist, absmag, absmag_err = load_apogee_distances(dr=14, metric='absmag', cuts=True)\n",
    "\n",
    "# xmatch the two\n",
    "idx_1, idx_2, sep = xmatch(ra, ra_dist, colRA1=ra, colDec1=dec, colRA2=ra_dist, colDec2=dec_dist, swap=False)\n",
    "\n",
    "# finally our training data\n",
    "x = x[idx_1]\n",
    "\n",
    "# We just need the first 3, [teff, logg, Fe]\n",
    "y = (y[:, 0:3])[idx_1]\n",
    "\n",
    "# Combine ASPCAP labels with absolute magnitude\n",
    "y_train = np.zeros((y.shape[0], 4))\n",
    "y_train[:,0:3]=y\n",
    "y_train[:,3]=absmag[idx_2]\n",
    "\n",
    "# randomly select 2000 spectra as test set\n",
    "test_idx = np.random.randint(0, y_train.shape[0], 2000)\n",
    "\n",
    "# Testing Data\n",
    "x_test = x[test_idx]\n",
    "y_test = y_train[test_idx]\n",
    "\n",
    "# Training data\n",
    "x_train = np.delete(x, test_idx, axis=0)\n",
    "y_train = np.delete(y_train, test_idx, axis=0)\n",
    "\n",
    "# K mag too so we can convert absolute magnitude back to distance\n",
    "kmag_test = kmag[test_idx]\n",
    "kmag_train = np.delete(kmag, test_idx, axis=0)"
   ]
  },
  {
   "cell_type": "markdown",
   "metadata": {},
   "source": [
    "### Train a neural network"
   ]
  },
  {
   "cell_type": "code",
   "execution_count": null,
   "metadata": {
    "collapsed": true,
    "scrolled": false
   },
   "outputs": [],
   "source": [
    "from astroNN.models import ApogeeCNN\n",
    "cnn = ApogeeCNN()\n",
    "\n",
    "# proporly set the tragetname\n",
    "cnn.targetname = ['teff', 'logg', 'Fe', 'absmag']\n",
    "\n",
    "# We only need a small neural net in this case\n",
    "cnn.num_hidden = [128,64]\n",
    "\n",
    "# setup the maximium epoxh the neural net can be trained\n",
    "cnn.max_epochs = 30\n",
    "\n",
    "# setup the initial learning rate\n",
    "cnn.lr=0.0001\n",
    "\n",
    "# setup the folder name\n",
    "cnn.folder_name = 'bovy_meeting'\n",
    "\n",
    "# train neural net here\n",
    "cnn.train(x_train,y_train)"
   ]
  },
  {
   "cell_type": "markdown",
   "metadata": {},
   "source": [
    "### The way you can load the folder back if you restarted python"
   ]
  },
  {
   "cell_type": "code",
   "execution_count": null,
   "metadata": {
    "collapsed": true
   },
   "outputs": [],
   "source": [
    "from astroNN.models import load_folder\n",
    "cnn = load_folder('bovy_meeting')"
   ]
  },
  {
   "cell_type": "markdown",
   "metadata": {},
   "source": [
    "### Use the trained neural network to predict on test spectra"
   ]
  },
  {
   "cell_type": "code",
   "execution_count": null,
   "metadata": {
    "collapsed": true
   },
   "outputs": [],
   "source": [
    "prediction = cnn.test(x_test)"
   ]
  },
  {
   "cell_type": "markdown",
   "metadata": {},
   "source": [
    "### Use aspcap_residue_plot() method to plot residue"
   ]
  },
  {
   "cell_type": "code",
   "execution_count": null,
   "metadata": {
    "collapsed": true
   },
   "outputs": [],
   "source": [
    "from astroNN.gaia import absmag_to_pc\n",
    "\n",
    "# convert our predicition of absolute magnitude to distance\n",
    "prediction[:,3] = absmag_to_pc(prediction[:,3], kmag_test)\n",
    "\n",
    "# convert our absolute magnitude ground truth to distance\n",
    "y_test[:,3] = absmag_to_pc(y_test[:,3], kmag_test)\n",
    "\n",
    "# prediction is the prediction from the trained neural network\n",
    "# y_test is the ground truth for test set\n",
    "cnn.aspcap_residue_plot(prediction, y_test)"
   ]
  },
  {
   "cell_type": "markdown",
   "metadata": {},
   "source": [
    "## The result\n",
    "\n",
    "## For absmag, the plot is actually showing distance (in parsec), the graphs are generated in an automated function, sorry for the confusion\n",
    "\n",
    "### `m` stands for median\n",
    "### `S hat` stands for normalized Median Absolute Derivation\n",
    "### `S` stands for astropy's mad_std (Corrected Median Absolute Derivation)"
   ]
  },
  {
   "cell_type": "markdown",
   "metadata": {},
   "source": [
    "![title](absmag_test.png)\n",
    "![title](Fe_test.png)\n",
    "![title](logg_test.png)\n",
    "![title](teff_test.png)"
   ]
  }
 ],
 "metadata": {
  "kernelspec": {
   "display_name": "Python 3",
   "language": "python",
   "name": "python3"
  },
  "language_info": {
   "codemirror_mode": {
    "name": "ipython",
    "version": 3
   },
   "file_extension": ".py",
   "mimetype": "text/x-python",
   "name": "python",
   "nbconvert_exporter": "python",
   "pygments_lexer": "ipython3",
   "version": "3.6.4"
  }
 },
 "nbformat": 4,
 "nbformat_minor": 2
}
