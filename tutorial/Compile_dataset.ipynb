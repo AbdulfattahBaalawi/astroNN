{
 "cells": [
  {
   "cell_type": "markdown",
   "metadata": {
    "collapsed": true
   },
   "source": [
    "#Compiling DR14 Dataset"
   ]
  },
  {
   "cell_type": "code",
   "execution_count": null,
   "metadata": {},
   "outputs": [],
   "source": [
    "import astroNN.datasets.h5_compiler\n",
    "\n",
    "astroNN.datasets.h5_compiler.compile_apogee(h5name='dr14apogee', dr=14, starflagcut=True, aspcapflagcut=True, vscattercut=1, SNRtrain_low=200,\n",
    "                   SNRtrain_high=99999, tefflow=4000, teffhigh=5500, ironlow=-3, SNRtest_low=100, SNRtest_high=200)\n",
    "\n",
    "'''\n",
    "    INPUT:\n",
    "        dr= 13 or 14\n",
    "        starflagcut = True (Cut star with starflag != 0), False (do nothing)\n",
    "        aspcapflagcut = True (Cut star with aspcapflag != 0), False (do nothing)\n",
    "        vscattercut = scalar for maximum scattercut for both train and test set\n",
    "        SNRlow/SNRhigh = SNR lower cut and SNR upper cut for train set\n",
    "        tefflow/teffhigh = Teff lower cut and Teff upper cut for training set\n",
    "        ironlow = lower limit of Fe/H dex\n",
    "        SNRtest_low/SNRtest_high = SNR lower cut and SNR upper cut for testing set\n",
    "\n",
    "    OUTPUT: {h5name}_train.h5   {h5name}_test.h5\n",
    "    '''"
   ]
  }
 ],
 "metadata": {
  "kernelspec": {
   "display_name": "Python 2",
   "language": "python",
   "name": "python2"
  },
  "language_info": {
   "codemirror_mode": {
    "name": "ipython",
    "version": 2
   },
   "file_extension": ".py",
   "mimetype": "text/x-python",
   "name": "python",
   "nbconvert_exporter": "python",
   "pygments_lexer": "ipython2",
   "version": "2.7.6"
  }
 },
 "nbformat": 4,
 "nbformat_minor": 0
}
