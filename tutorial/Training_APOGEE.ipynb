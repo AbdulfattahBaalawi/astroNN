{
 "cells": [
  {
   "cell_type": "code",
   "execution_count": 1,
   "metadata": {},
   "outputs": [
    {
     "name": "stderr",
     "output_type": "stream",
     "text": [
      "Using TensorFlow backend.\n"
     ]
    }
   ],
   "source": [
    "import astroNN.NN.train"
   ]
  },
  {
   "cell_type": "code",
   "execution_count": 2,
   "metadata": {
    "scrolled": false
   },
   "outputs": [
    {
     "name": "stdout",
     "output_type": "stream",
     "text": [
      "Each spectrum contains 7514 wavelength bins\n",
      "Training set includes 29170 spectra and the cross-validation set includes 3242 spectra\n",
      "Epoch 1/10\n",
      "7s - loss: 0.3603 - acc: 0.6336 - mean_absolute_error: 0.3878 - val_loss: 0.0662 - val_acc: 0.7730 - val_mean_absolute_error: 0.1847\n",
      "Epoch 2/10\n",
      "6s - loss: 0.0616 - acc: 0.7599 - mean_absolute_error: 0.1786 - val_loss: 0.0434 - val_acc: 0.8339 - val_mean_absolute_error: 0.1484\n",
      "Epoch 3/10\n",
      "6s - loss: 0.0403 - acc: 0.8005 - mean_absolute_error: 0.1466 - val_loss: 0.0342 - val_acc: 0.8480 - val_mean_absolute_error: 0.1333\n",
      "Epoch 4/10\n",
      "6s - loss: 0.0293 - acc: 0.8520 - mean_absolute_error: 0.1247 - val_loss: 0.0225 - val_acc: 0.8735 - val_mean_absolute_error: 0.1052\n",
      "Epoch 5/10\n",
      "6s - loss: 0.0204 - acc: 0.8759 - mean_absolute_error: 0.1036 - val_loss: 0.0221 - val_acc: 0.9179 - val_mean_absolute_error: 0.1076\n",
      "Epoch 6/10\n",
      "6s - loss: 0.0155 - acc: 0.8946 - mean_absolute_error: 0.0895 - val_loss: 0.0128 - val_acc: 0.9243 - val_mean_absolute_error: 0.0761\n",
      "Epoch 7/10\n",
      "6s - loss: 0.0132 - acc: 0.9023 - mean_absolute_error: 0.0823 - val_loss: 0.0105 - val_acc: 0.9452 - val_mean_absolute_error: 0.0675\n",
      "Epoch 8/10\n",
      "6s - loss: 0.0123 - acc: 0.9089 - mean_absolute_error: 0.0792 - val_loss: 0.0089 - val_acc: 0.9259 - val_mean_absolute_error: 0.0630\n",
      "Epoch 9/10\n",
      "6s - loss: 0.0109 - acc: 0.9161 - mean_absolute_error: 0.0724 - val_loss: 0.0115 - val_acc: 0.9384 - val_mean_absolute_error: 0.0769\n",
      "Epoch 10/10\n",
      "6s - loss: 0.0095 - acc: 0.9240 - mean_absolute_error: 0.0689 - val_loss: 0.0081 - val_acc: 0.9568 - val_mean_absolute_error: 0.0554\n",
      "cnn__teff_logg_Fe.h5 saved to E:\\astroNN_test\\apogee_train_1018_teff_logg_Fe\\\n",
      "_________________________________________________________________\n",
      "Layer (type)                 Output Shape              Param #   \n",
      "=================================================================\n",
      "input_1 (InputLayer)         (None, 7514, 1)           0         \n",
      "_________________________________________________________________\n",
      "conv1d_1 (Conv1D)            (None, 7514, 2)           18        \n",
      "_________________________________________________________________\n",
      "conv1d_2 (Conv1D)            (None, 7514, 4)           68        \n",
      "_________________________________________________________________\n",
      "max_pooling1d_1 (MaxPooling1 (None, 1878, 4)           0         \n",
      "_________________________________________________________________\n",
      "flatten_1 (Flatten)          (None, 7512)              0         \n",
      "_________________________________________________________________\n",
      "dense_1 (Dense)              (None, 128)               961664    \n",
      "_________________________________________________________________\n",
      "dense_2 (Dense)              (None, 64)                8256      \n",
      "_________________________________________________________________\n",
      "dense_3 (Dense)              (None, 3)                 195       \n",
      "=================================================================\n",
      "Total params: 970,201\n",
      "Trainable params: 970,201\n",
      "Non-trainable params: 0\n",
      "_________________________________________________________________\n",
      "None\n",
      "Test set contains 26079 stars\n",
      "2.04 seconds to make 26079 predictions\n"
     ]
    }
   ],
   "source": [
    "astroNN.NN.train.apogee_train(h5data='123abc_train.h5', target=['teff', 'logg', 'Fe'], h5test='123abc_test.h5', model='cnn_apogee_1')"
   ]
  }
 ],
 "metadata": {
  "kernelspec": {
   "display_name": "Python 3",
   "language": "python",
   "name": "python3"
  },
  "language_info": {
   "codemirror_mode": {
    "name": "ipython",
    "version": 3
   },
   "file_extension": ".py",
   "mimetype": "text/x-python",
   "name": "python",
   "nbconvert_exporter": "python",
   "pygments_lexer": "ipython3",
   "version": "3.6.2"
  }
 },
 "nbformat": 4,
 "nbformat_minor": 2
}
